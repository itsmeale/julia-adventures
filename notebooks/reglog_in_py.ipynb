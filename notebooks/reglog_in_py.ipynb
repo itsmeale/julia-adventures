{
 "cells": [
  {
   "cell_type": "code",
   "execution_count": 1,
   "metadata": {},
   "outputs": [],
   "source": [
    "import pandas as pd\n",
    "import numpy as np\n",
    "import matplotlib.pyplot as pltq"
   ]
  },
  {
   "cell_type": "code",
   "execution_count": 2,
   "metadata": {},
   "outputs": [],
   "source": [
    "df = pd.read_csv(\"../data/raw/iris.m\", header=None)"
   ]
  },
  {
   "cell_type": "code",
   "execution_count": 3,
   "metadata": {},
   "outputs": [],
   "source": [
    "X = df.iloc[:, 0:4].values\n",
    "y = df.iloc[:, -1].values"
   ]
  },
  {
   "cell_type": "code",
   "execution_count": 4,
   "metadata": {},
   "outputs": [],
   "source": [
    "X = np.hstack([X, np.ones((len(X), 1))])  # adiciona bias\n",
    "d = X.shape[1]  # quantidade de features\n",
    "k = len(np.unique(y))  # quantidade de classes"
   ]
  },
  {
   "cell_type": "code",
   "execution_count": 5,
   "metadata": {},
   "outputs": [],
   "source": [
    "# prepara o Y para multiclasse\n",
    "unique_classes = list(np.unique(y))\n",
    "Ytr = np.zeros((len(X), k))\n",
    "\n",
    "for i, yi in enumerate(y):\n",
    "    classindex = unique_classes.index(yi)\n",
    "    Ytr[i][classindex] = 1"
   ]
  },
  {
   "cell_type": "markdown",
   "metadata": {},
   "source": [
    "---"
   ]
  },
  {
   "cell_type": "markdown",
   "metadata": {},
   "source": [
    "## Softmax regression"
   ]
  },
  {
   "cell_type": "code",
   "execution_count": 240,
   "metadata": {},
   "outputs": [],
   "source": [
    "def softmax(Ŷ):\n",
    "    expY = np.exp(Ŷ - Ŷ.max())\n",
    "    return  expY / np.sum(expY, axis=1).reshape(150, 1)\n",
    "\n",
    "def cross_entropy(Ytr, Ŷ):\n",
    "    return -np.sum(np.multiply(Ytr, np.log(Ŷ)))"
   ]
  },
  {
   "cell_type": "code",
   "execution_count": 265,
   "metadata": {},
   "outputs": [],
   "source": [
    "def h(X, W, grad, alpha):\n",
    "    Wi = W + alpha * (-grad)\n",
    "    Ŷi = softmax(X @ Wi.T)\n",
    "    return Ŷi"
   ]
  },
  {
   "cell_type": "code",
   "execution_count": 266,
   "metadata": {},
   "outputs": [],
   "source": [
    "def hl(X, W, grad, alpha):\n",
    "    Ŷ = h(X, W, grad, alpha)\n",
    "    grad_h = (Ŷ - Ytr).T @ X\n",
    "    return np.dot(grad_h.flatten().T, (-grad).flatten())"
   ]
  },
  {
   "cell_type": "code",
   "execution_count": 286,
   "metadata": {},
   "outputs": [],
   "source": [
    "def bissecao(X, W, grad):\n",
    "    \n",
    "    al = 0  # isso vai ser sempre negativo\n",
    "    ar = np.random.rand()  # pode ou não ser positivo\n",
    "    \n",
    "    while hl(X, W, grad, ar) < 0:\n",
    "        ar = 2*ar\n",
    "    \n",
    "    am = (al + ar) / 2\n",
    "    print(am)\n",
    "    \n",
    "    while abs(hl(X, W, grad, am)) > 1e-4:\n",
    "        \n",
    "        # print(hl(X, W, grad, am))\n",
    "        print(am)\n",
    "        \n",
    "        if hl(X, W, grad, am) > 0:\n",
    "            ar = am\n",
    "        elif hl(X, W, grad, am) < 0:\n",
    "            al = am\n",
    "        else:\n",
    "            return am\n",
    "        \n",
    "        am = (al + ar) / 2\n",
    "\n",
    "    return am"
   ]
  },
  {
   "cell_type": "code",
   "execution_count": 287,
   "metadata": {},
   "outputs": [],
   "source": [
    "W = np.random.rand(k, d)\n",
    "Ŷ = softmax(X @ W.T)\n",
    "cross_entropy(Ytr, Ŷ)\n",
    "grad = (Ŷ - Ytr).T @ X"
   ]
  },
  {
   "cell_type": "code",
   "execution_count": 288,
   "metadata": {},
   "outputs": [
    {
     "data": {
      "text/plain": [
       "225.68983401415306"
      ]
     },
     "execution_count": 288,
     "metadata": {},
     "output_type": "execute_result"
    }
   ],
   "source": [
    "cross_entropy(Ytr, Ŷ)"
   ]
  },
  {
   "cell_type": "code",
   "execution_count": 289,
   "metadata": {
    "collapsed": true,
    "jupyter": {
     "outputs_hidden": true
    },
    "tags": []
   },
   "outputs": [
    {
     "name": "stdout",
     "output_type": "stream",
     "text": [
      "0.32530811300282453\n",
      "0.32530811300282453\n",
      "0.16265405650141226\n",
      "0.08132702825070613\n",
      "0.040663514125353066\n",
      "0.020331757062676533\n",
      "0.010165878531338267\n",
      "0.005082939265669133\n",
      "0.0025414696328345666\n",
      "0.0012707348164172833\n",
      "0.0006353674082086417\n",
      "0.00031768370410432083\n",
      "0.0004765255561564812\n",
      "0.000397104630130401\n",
      "0.0004368150931434411\n",
      "0.00045667032464996116\n",
      "0.00044674270889670113\n",
      "0.00044177890102007115\n",
      "0.0004392969970817561\n",
      "0.0004380560451125986\n",
      "0.0004386765210971774\n",
      "0.0004389867590894668\n",
      "0.0004388316400933221\n",
      "0.00043875408059524973\n",
      "0.0004387928603442859\n",
      "0.0004387734704697678\n",
      "0.00043876377553250876\n",
      "0.0004387686230011383\n",
      "0.00043877104673545304\n",
      "0.0004387698348682957\n",
      "0.0004387704408018744\n",
      "0.00043877013783508504\n",
      "0.00043876998635169036\n",
      "0.0004387700620933877\n",
      "0.000438770024222539\n",
      "0.0004387700052871147\n",
      "0.0004387699958194025\n",
      "0.0004387700005532586\n"
     ]
    },
    {
     "name": "stderr",
     "output_type": "stream",
     "text": [
      "/tmp/ipykernel_7248/3346494963.py:3: RuntimeWarning: invalid value encountered in divide\n",
      "  return  expY / np.sum(expY, axis=1).reshape(150, 1)\n"
     ]
    }
   ],
   "source": [
    "alpha = bissecao(X, W, grad)"
   ]
  },
  {
   "cell_type": "code",
   "execution_count": 307,
   "metadata": {},
   "outputs": [],
   "source": [
    "Wi = W - .5*grad"
   ]
  },
  {
   "cell_type": "code",
   "execution_count": 308,
   "metadata": {},
   "outputs": [],
   "source": [
    "Yi = X @ Wi.T"
   ]
  },
  {
   "cell_type": "code",
   "execution_count": 309,
   "metadata": {
    "collapsed": true,
    "jupyter": {
     "outputs_hidden": true
    },
    "tags": []
   },
   "outputs": [
    {
     "data": {
      "text/plain": [
       "array([[0.00000000e+000, 2.62810873e-252, 6.56629953e-246],\n",
       "       [0.00000000e+000, 1.43336753e-258, 3.01006265e-249],\n",
       "       [0.00000000e+000, 8.38113827e-262, 1.51664827e-255],\n",
       "       [0.00000000e+000, 1.60659871e-261, 8.18400331e-251],\n",
       "       [0.00000000e+000, 2.67578384e-253, 1.80775529e-247],\n",
       "       [0.00000000e+000, 1.19875350e-240, 1.10153552e-228],\n",
       "       [0.00000000e+000, 1.31780626e-260, 1.68311167e-252],\n",
       "       [0.00000000e+000, 2.84169712e-253, 2.35544543e-244],\n",
       "       [0.00000000e+000, 3.37105999e-267, 3.09374715e-257],\n",
       "       [0.00000000e+000, 4.86967289e-257, 1.95082683e-247],\n",
       "       [0.00000000e+000, 5.02629716e-245, 6.77922889e-238],\n",
       "       [0.00000000e+000, 3.12838319e-255, 2.32618556e-244],\n",
       "       [0.00000000e+000, 1.67530678e-260, 3.09253019e-252],\n",
       "       [0.00000000e+000, 2.88911619e-272, 1.00330994e-269],\n",
       "       [0.00000000e+000, 1.59554362e-240, 5.73194288e-241],\n",
       "       [0.00000000e+000, 2.80633589e-235, 4.14443334e-230],\n",
       "       [0.00000000e+000, 1.21352879e-245, 2.15121713e-241],\n",
       "       [0.00000000e+000, 5.60328416e-252, 1.63758424e-244],\n",
       "       [0.00000000e+000, 8.89304863e-237, 2.44373354e-225],\n",
       "       [0.00000000e+000, 6.77528208e-249, 3.05580019e-241],\n",
       "       [0.00000000e+000, 2.31618518e-244, 1.23664398e-231],\n",
       "       [0.00000000e+000, 3.53553471e-249, 7.09267946e-240],\n",
       "       [0.00000000e+000, 1.04451729e-264, 1.52163634e-266],\n",
       "       [0.00000000e+000, 8.50174249e-249, 3.00303299e-232],\n",
       "       [0.00000000e+000, 1.74313007e-251, 7.91826533e-235],\n",
       "       [0.00000000e+000, 1.80784570e-254, 2.65834469e-241],\n",
       "       [0.00000000e+000, 2.29005743e-251, 2.20377641e-238],\n",
       "       [0.00000000e+000, 1.86972260e-249, 3.85503107e-241],\n",
       "       [0.00000000e+000, 2.58128307e-251, 2.38507334e-244],\n",
       "       [0.00000000e+000, 4.66995674e-258, 5.16262487e-246],\n",
       "       [0.00000000e+000, 4.58675096e-257, 1.87521737e-244],\n",
       "       [0.00000000e+000, 3.34990132e-246, 3.39901810e-235],\n",
       "       [0.00000000e+000, 4.07950458e-246, 2.37864922e-242],\n",
       "       [0.00000000e+000, 1.29538863e-241, 2.51894253e-239],\n",
       "       [0.00000000e+000, 4.86967289e-257, 1.95082683e-247],\n",
       "       [0.00000000e+000, 3.05509520e-258, 5.99366124e-254],\n",
       "       [0.00000000e+000, 3.84440354e-247, 1.01276022e-242],\n",
       "       [0.00000000e+000, 4.86967289e-257, 1.95082683e-247],\n",
       "       [0.00000000e+000, 7.76905372e-268, 2.20980439e-260],\n",
       "       [0.00000000e+000, 1.14035924e-251, 9.19288177e-243],\n",
       "       [0.00000000e+000, 7.87605607e-255, 2.78930790e-249],\n",
       "       [0.00000000e+000, 3.49727819e-270, 1.30086539e-257],\n",
       "       [0.00000000e+000, 1.29691440e-266, 2.55122635e-260],\n",
       "       [0.00000000e+000, 4.25320783e-250, 1.47275678e-235],\n",
       "       [0.00000000e+000, 1.42694259e-243, 3.90231364e-227],\n",
       "       [0.00000000e+000, 7.61540462e-260, 1.92344542e-249],\n",
       "       [0.00000000e+000, 5.63375574e-248, 1.84319192e-239],\n",
       "       [0.00000000e+000, 3.70261928e-262, 5.84567696e-254],\n",
       "       [0.00000000e+000, 1.25251883e-246, 1.73700740e-239],\n",
       "       [0.00000000e+000, 3.92316201e-255, 1.45729308e-247],\n",
       "       [0.00000000e+000, 1.59713925e-178, 3.75283980e-094],\n",
       "       [0.00000000e+000, 2.59429175e-190, 1.17034550e-108],\n",
       "       [0.00000000e+000, 6.52749444e-178, 5.05037827e-088],\n",
       "       [0.00000000e+000, 3.80584415e-217, 6.09143311e-142],\n",
       "       [0.00000000e+000, 6.62317585e-190, 5.15502722e-104],\n",
       "       [0.00000000e+000, 1.22204309e-204, 1.02354622e-122],\n",
       "       [0.00000000e+000, 1.76996929e-188, 1.81833179e-102],\n",
       "       [0.00000000e+000, 6.97993858e-236, 6.85009290e-178],\n",
       "       [0.00000000e+000, 2.38892844e-188, 3.47569174e-105],\n",
       "       [0.00000000e+000, 1.97367233e-220, 2.26427051e-148],\n",
       "       [0.00000000e+000, 3.15914109e-234, 4.53880891e-170],\n",
       "       [0.00000000e+000, 2.68007093e-203, 3.28881994e-126],\n",
       "       [0.00000000e+000, 1.00023245e-210, 3.30952876e-138],\n",
       "       [0.00000000e+000, 8.67666685e-195, 1.43999053e-108],\n",
       "       [0.00000000e+000, 7.19224812e-217, 7.14445866e-153],\n",
       "       [0.00000000e+000, 1.08559953e-187, 1.72600031e-108],\n",
       "       [0.00000000e+000, 2.31081111e-204, 1.88317165e-121],\n",
       "       [0.00000000e+000, 1.25372148e-209, 4.68085694e-138],\n",
       "       [0.00000000e+000, 1.24272512e-199, 3.74611440e-112],\n",
       "       [0.00000000e+000, 3.16365778e-216, 2.93358572e-146],\n",
       "       [0.00000000e+000, 1.34619240e-193, 6.82425936e-103],\n",
       "       [0.00000000e+000, 1.80964070e-204, 3.08303990e-132],\n",
       "       [0.00000000e+000, 3.35995576e-191, 9.28681217e-098],\n",
       "       [0.00000000e+000, 4.67178332e-196, 2.15474627e-111],\n",
       "       [0.00000000e+000, 2.66235212e-195, 6.70344888e-118],\n",
       "       [0.00000000e+000, 6.62116107e-190, 4.11589855e-110],\n",
       "       [0.00000000e+000, 6.30955254e-183, 2.78061599e-094],\n",
       "       [0.00000000e+000, 7.99494919e-180, 2.88711150e-085],\n",
       "       [0.00000000e+000, 1.46672415e-198, 4.06636950e-115],\n",
       "       [0.00000000e+000, 2.46289485e-219, 9.63335960e-159],\n",
       "       [0.00000000e+000, 1.08838878e-219, 4.65043963e-151],\n",
       "       [0.00000000e+000, 2.87948478e-221, 1.23960262e-155],\n",
       "       [0.00000000e+000, 1.81325883e-211, 1.28657218e-141],\n",
       "       [0.00000000e+000, 5.81599835e-192, 1.01780839e-094],\n",
       "       [0.00000000e+000, 1.43494961e-207, 1.23632500e-124],\n",
       "       [0.00000000e+000, 3.56045689e-195, 1.45237143e-113],\n",
       "       [0.00000000e+000, 1.28967064e-183, 1.46524255e-097],\n",
       "       [0.00000000e+000, 2.52837788e-199, 1.67904664e-116],\n",
       "       [0.00000000e+000, 5.14619227e-210, 5.91302521e-137],\n",
       "       [0.00000000e+000, 6.35322430e-216, 7.03257932e-142],\n",
       "       [0.00000000e+000, 1.20266942e-210, 1.55147049e-130],\n",
       "       [0.00000000e+000, 1.99965267e-195, 1.02855768e-111],\n",
       "       [0.00000000e+000, 7.86788778e-211, 1.80121329e-138],\n",
       "       [0.00000000e+000, 6.85557528e-235, 2.48815545e-176],\n",
       "       [0.00000000e+000, 1.33764594e-210, 7.17043587e-134],\n",
       "       [0.00000000e+000, 1.71719865e-207, 1.39198310e-133],\n",
       "       [0.00000000e+000, 8.96083049e-208, 3.23086895e-132],\n",
       "       [0.00000000e+000, 1.65324683e-198, 4.40089540e-121],\n",
       "       [0.00000000e+000, 1.75727794e-235, 8.21388394e-183],\n",
       "       [0.00000000e+000, 1.23710544e-209, 1.99890981e-135],\n",
       "       [0.00000000e+000, 2.75339774e-169, 1.37053808e-048],\n",
       "       [0.00000000e+000, 3.50021268e-194, 1.03647218e-093],\n",
       "       [0.00000000e+000, 7.41136368e-161, 1.02203787e-044],\n",
       "       [0.00000000e+000, 4.99467857e-179, 3.34661546e-071],\n",
       "       [0.00000000e+000, 2.13424419e-171, 4.79456947e-056],\n",
       "       [0.00000000e+000, 4.24528906e-144, 1.61309550e-014],\n",
       "       [0.00000000e+000, 5.50500640e-218, 5.92949264e-130],\n",
       "       [0.00000000e+000, 2.97739307e-154, 4.78290817e-033],\n",
       "       [0.00000000e+000, 1.46088711e-172, 1.31821768e-058],\n",
       "       [0.00000000e+000, 8.98522097e-152, 5.37303985e-031],\n",
       "       [0.00000000e+000, 1.42396399e-179, 5.10597758e-081],\n",
       "       [0.00000000e+000, 4.59428275e-182, 8.28870239e-078],\n",
       "       [0.00000000e+000, 1.16098506e-170, 3.35750637e-062],\n",
       "       [0.00000000e+000, 6.28371842e-198, 3.81362739e-097],\n",
       "       [0.00000000e+000, 6.30032015e-192, 1.07440997e-086],\n",
       "       [0.00000000e+000, 1.08086876e-177, 4.59204657e-072],\n",
       "       [0.00000000e+000, 1.85368947e-176, 3.64109561e-071],\n",
       "       [0.00000000e+000, 5.00049719e-136, 4.19595546e-008],\n",
       "       [0.00000000e+000, 1.54843605e-140, 1.00000000e+000],\n",
       "       [0.00000000e+000, 1.35144083e-196, 1.89437784e-099],\n",
       "       [0.00000000e+000, 1.11114888e-164, 2.12918639e-051],\n",
       "       [0.00000000e+000, 6.02417598e-199, 8.05793584e-102],\n",
       "       [0.00000000e+000, 8.48591364e-143, 3.28919144e-011],\n",
       "       [0.00000000e+000, 5.43594060e-189, 1.66307065e-093],\n",
       "       [0.00000000e+000, 6.20179515e-168, 2.41483847e-057],\n",
       "       [0.00000000e+000, 9.08191029e-158, 4.46601791e-044],\n",
       "       [0.00000000e+000, 3.12185299e-191, 3.04369470e-098],\n",
       "       [0.00000000e+000, 2.30229882e-190, 1.35439763e-096],\n",
       "       [0.00000000e+000, 4.75442282e-177, 1.88553995e-065],\n",
       "       [0.00000000e+000, 3.80798721e-162, 2.74854121e-053],\n",
       "       [0.00000000e+000, 1.98375436e-155, 1.91469199e-036],\n",
       "       [0.00000000e+000, 3.17930721e-137, 3.01881509e-017],\n",
       "       [0.00000000e+000, 1.01367123e-176, 4.70239058e-064],\n",
       "       [0.00000000e+000, 7.20258253e-187, 2.60685293e-091],\n",
       "       [0.00000000e+000, 2.20073472e-185, 4.57850803e-080],\n",
       "       [0.00000000e+000, 4.42201333e-148, 5.08348799e-026],\n",
       "       [0.00000000e+000, 5.34147777e-174, 1.15316504e-062],\n",
       "       [0.00000000e+000, 1.88731626e-177, 1.00242303e-072],\n",
       "       [0.00000000e+000, 3.23614403e-193, 2.30695430e-101],\n",
       "       [0.00000000e+000, 1.07372279e-169, 9.35975515e-064],\n",
       "       [0.00000000e+000, 2.03096403e-169, 2.15681671e-056],\n",
       "       [0.00000000e+000, 8.75953306e-173, 1.71019138e-070],\n",
       "       [0.00000000e+000, 3.50021268e-194, 1.03647218e-093],\n",
       "       [0.00000000e+000, 8.70258467e-164, 1.23450309e-046],\n",
       "       [0.00000000e+000, 1.28148843e-166, 9.34157112e-052],\n",
       "       [0.00000000e+000, 2.36021474e-175, 1.57187658e-070],\n",
       "       [0.00000000e+000, 1.23083768e-188, 5.40414589e-089],\n",
       "       [0.00000000e+000, 1.51225757e-179, 6.65292011e-078],\n",
       "       [0.00000000e+000, 1.98636159e-178, 5.23567587e-072],\n",
       "       [0.00000000e+000, 4.49338671e-191, 2.01208377e-093]])"
      ]
     },
     "execution_count": 309,
     "metadata": {},
     "output_type": "execute_result"
    }
   ],
   "source": [
    "np.exp((Yi - Yi.max()))"
   ]
  },
  {
   "cell_type": "code",
   "execution_count": 306,
   "metadata": {},
   "outputs": [
    {
     "name": "stderr",
     "output_type": "stream",
     "text": [
      "/tmp/ipykernel_7248/3346494963.py:3: RuntimeWarning: invalid value encountered in divide\n",
      "  return  expY / np.sum(expY, axis=1).reshape(150, 1)\n"
     ]
    },
    {
     "data": {
      "text/plain": [
       "array([[            nan,             nan,             nan],\n",
       "       [            nan,             nan,             nan],\n",
       "       [            nan,             nan,             nan],\n",
       "       [            nan,             nan,             nan],\n",
       "       [            nan,             nan,             nan],\n",
       "       [            nan,             nan,             nan],\n",
       "       [            nan,             nan,             nan],\n",
       "       [            nan,             nan,             nan],\n",
       "       [            nan,             nan,             nan],\n",
       "       [            nan,             nan,             nan],\n",
       "       [            nan,             nan,             nan],\n",
       "       [            nan,             nan,             nan],\n",
       "       [            nan,             nan,             nan],\n",
       "       [            nan,             nan,             nan],\n",
       "       [            nan,             nan,             nan],\n",
       "       [            nan,             nan,             nan],\n",
       "       [            nan,             nan,             nan],\n",
       "       [            nan,             nan,             nan],\n",
       "       [            nan,             nan,             nan],\n",
       "       [            nan,             nan,             nan],\n",
       "       [            nan,             nan,             nan],\n",
       "       [            nan,             nan,             nan],\n",
       "       [            nan,             nan,             nan],\n",
       "       [            nan,             nan,             nan],\n",
       "       [            nan,             nan,             nan],\n",
       "       [            nan,             nan,             nan],\n",
       "       [            nan,             nan,             nan],\n",
       "       [            nan,             nan,             nan],\n",
       "       [            nan,             nan,             nan],\n",
       "       [            nan,             nan,             nan],\n",
       "       [            nan,             nan,             nan],\n",
       "       [            nan,             nan,             nan],\n",
       "       [            nan,             nan,             nan],\n",
       "       [            nan,             nan,             nan],\n",
       "       [            nan,             nan,             nan],\n",
       "       [            nan,             nan,             nan],\n",
       "       [            nan,             nan,             nan],\n",
       "       [            nan,             nan,             nan],\n",
       "       [            nan,             nan,             nan],\n",
       "       [            nan,             nan,             nan],\n",
       "       [            nan,             nan,             nan],\n",
       "       [            nan,             nan,             nan],\n",
       "       [            nan,             nan,             nan],\n",
       "       [            nan,             nan,             nan],\n",
       "       [            nan,             nan,             nan],\n",
       "       [            nan,             nan,             nan],\n",
       "       [            nan,             nan,             nan],\n",
       "       [            nan,             nan,             nan],\n",
       "       [            nan,             nan,             nan],\n",
       "       [            nan,             nan,             nan],\n",
       "       [0.00000000e+000, 0.00000000e+000, 1.00000000e+000],\n",
       "       [0.00000000e+000, 0.00000000e+000, 1.00000000e+000],\n",
       "       [0.00000000e+000, 0.00000000e+000, 1.00000000e+000],\n",
       "       [0.00000000e+000, 0.00000000e+000, 1.00000000e+000],\n",
       "       [0.00000000e+000, 0.00000000e+000, 1.00000000e+000],\n",
       "       [0.00000000e+000, 0.00000000e+000, 1.00000000e+000],\n",
       "       [0.00000000e+000, 0.00000000e+000, 1.00000000e+000],\n",
       "       [            nan,             nan,             nan],\n",
       "       [0.00000000e+000, 0.00000000e+000, 1.00000000e+000],\n",
       "       [0.00000000e+000, 0.00000000e+000, 1.00000000e+000],\n",
       "       [            nan,             nan,             nan],\n",
       "       [0.00000000e+000, 0.00000000e+000, 1.00000000e+000],\n",
       "       [0.00000000e+000, 0.00000000e+000, 1.00000000e+000],\n",
       "       [0.00000000e+000, 0.00000000e+000, 1.00000000e+000],\n",
       "       [0.00000000e+000, 0.00000000e+000, 1.00000000e+000],\n",
       "       [0.00000000e+000, 0.00000000e+000, 1.00000000e+000],\n",
       "       [0.00000000e+000, 0.00000000e+000, 1.00000000e+000],\n",
       "       [0.00000000e+000, 0.00000000e+000, 1.00000000e+000],\n",
       "       [0.00000000e+000, 0.00000000e+000, 1.00000000e+000],\n",
       "       [0.00000000e+000, 0.00000000e+000, 1.00000000e+000],\n",
       "       [0.00000000e+000, 0.00000000e+000, 1.00000000e+000],\n",
       "       [0.00000000e+000, 0.00000000e+000, 1.00000000e+000],\n",
       "       [0.00000000e+000, 0.00000000e+000, 1.00000000e+000],\n",
       "       [0.00000000e+000, 0.00000000e+000, 1.00000000e+000],\n",
       "       [0.00000000e+000, 0.00000000e+000, 1.00000000e+000],\n",
       "       [0.00000000e+000, 0.00000000e+000, 1.00000000e+000],\n",
       "       [0.00000000e+000, 0.00000000e+000, 1.00000000e+000],\n",
       "       [0.00000000e+000, 0.00000000e+000, 1.00000000e+000],\n",
       "       [0.00000000e+000, 0.00000000e+000, 1.00000000e+000],\n",
       "       [0.00000000e+000, 0.00000000e+000, 1.00000000e+000],\n",
       "       [0.00000000e+000, 0.00000000e+000, 1.00000000e+000],\n",
       "       [0.00000000e+000, 0.00000000e+000, 1.00000000e+000],\n",
       "       [0.00000000e+000, 0.00000000e+000, 1.00000000e+000],\n",
       "       [0.00000000e+000, 0.00000000e+000, 1.00000000e+000],\n",
       "       [0.00000000e+000, 0.00000000e+000, 1.00000000e+000],\n",
       "       [0.00000000e+000, 0.00000000e+000, 1.00000000e+000],\n",
       "       [0.00000000e+000, 0.00000000e+000, 1.00000000e+000],\n",
       "       [0.00000000e+000, 0.00000000e+000, 1.00000000e+000],\n",
       "       [0.00000000e+000, 0.00000000e+000, 1.00000000e+000],\n",
       "       [0.00000000e+000, 0.00000000e+000, 1.00000000e+000],\n",
       "       [0.00000000e+000, 0.00000000e+000, 1.00000000e+000],\n",
       "       [0.00000000e+000, 0.00000000e+000, 1.00000000e+000],\n",
       "       [0.00000000e+000, 0.00000000e+000, 1.00000000e+000],\n",
       "       [            nan,             nan,             nan],\n",
       "       [0.00000000e+000, 0.00000000e+000, 1.00000000e+000],\n",
       "       [0.00000000e+000, 0.00000000e+000, 1.00000000e+000],\n",
       "       [0.00000000e+000, 0.00000000e+000, 1.00000000e+000],\n",
       "       [0.00000000e+000, 0.00000000e+000, 1.00000000e+000],\n",
       "       [            nan,             nan,             nan],\n",
       "       [0.00000000e+000, 0.00000000e+000, 1.00000000e+000],\n",
       "       [0.00000000e+000, 0.00000000e+000, 1.00000000e+000],\n",
       "       [0.00000000e+000, 0.00000000e+000, 1.00000000e+000],\n",
       "       [0.00000000e+000, 2.39044178e-233, 1.00000000e+000],\n",
       "       [0.00000000e+000, 0.00000000e+000, 1.00000000e+000],\n",
       "       [0.00000000e+000, 0.00000000e+000, 1.00000000e+000],\n",
       "       [0.00000000e+000, 2.87687563e-260, 1.00000000e+000],\n",
       "       [0.00000000e+000, 0.00000000e+000, 1.00000000e+000],\n",
       "       [0.00000000e+000, 1.95670842e-243, 1.00000000e+000],\n",
       "       [0.00000000e+000, 0.00000000e+000, 1.00000000e+000],\n",
       "       [0.00000000e+000, 7.97161711e-243, 1.00000000e+000],\n",
       "       [0.00000000e+000, 0.00000000e+000, 1.00000000e+000],\n",
       "       [0.00000000e+000, 0.00000000e+000, 1.00000000e+000],\n",
       "       [0.00000000e+000, 0.00000000e+000, 1.00000000e+000],\n",
       "       [0.00000000e+000, 0.00000000e+000, 1.00000000e+000],\n",
       "       [0.00000000e+000, 0.00000000e+000, 1.00000000e+000],\n",
       "       [0.00000000e+000, 0.00000000e+000, 1.00000000e+000],\n",
       "       [0.00000000e+000, 0.00000000e+000, 1.00000000e+000],\n",
       "       [0.00000000e+000, 4.30193440e-257, 1.00000000e+000],\n",
       "       [0.00000000e+000, 9.21493222e-281, 1.00000000e+000],\n",
       "       [0.00000000e+000, 0.00000000e+000, 1.00000000e+000],\n",
       "       [0.00000000e+000, 0.00000000e+000, 1.00000000e+000],\n",
       "       [0.00000000e+000, 0.00000000e+000, 1.00000000e+000],\n",
       "       [0.00000000e+000, 3.12581429e-264, 1.00000000e+000],\n",
       "       [0.00000000e+000, 0.00000000e+000, 1.00000000e+000],\n",
       "       [0.00000000e+000, 0.00000000e+000, 1.00000000e+000],\n",
       "       [0.00000000e+000, 2.08551705e-228, 1.00000000e+000],\n",
       "       [0.00000000e+000, 0.00000000e+000, 1.00000000e+000],\n",
       "       [0.00000000e+000, 0.00000000e+000, 1.00000000e+000],\n",
       "       [0.00000000e+000, 0.00000000e+000, 1.00000000e+000],\n",
       "       [0.00000000e+000, 1.25403619e-218, 1.00000000e+000],\n",
       "       [0.00000000e+000, 6.14896548e-239, 1.00000000e+000],\n",
       "       [0.00000000e+000, 4.81954544e-241, 1.00000000e+000],\n",
       "       [0.00000000e+000, 0.00000000e+000, 1.00000000e+000],\n",
       "       [0.00000000e+000, 0.00000000e+000, 1.00000000e+000],\n",
       "       [0.00000000e+000, 0.00000000e+000, 1.00000000e+000],\n",
       "       [0.00000000e+000, 3.78291784e-245, 1.00000000e+000],\n",
       "       [0.00000000e+000, 0.00000000e+000, 1.00000000e+000],\n",
       "       [0.00000000e+000, 0.00000000e+000, 1.00000000e+000],\n",
       "       [0.00000000e+000, 0.00000000e+000, 1.00000000e+000],\n",
       "       [0.00000000e+000, 0.00000000e+000, 1.00000000e+000],\n",
       "       [0.00000000e+000, 0.00000000e+000, 1.00000000e+000],\n",
       "       [0.00000000e+000, 0.00000000e+000, 1.00000000e+000],\n",
       "       [0.00000000e+000, 0.00000000e+000, 1.00000000e+000],\n",
       "       [0.00000000e+000, 0.00000000e+000, 1.00000000e+000],\n",
       "       [0.00000000e+000, 0.00000000e+000, 1.00000000e+000],\n",
       "       [0.00000000e+000, 0.00000000e+000, 1.00000000e+000],\n",
       "       [0.00000000e+000, 0.00000000e+000, 1.00000000e+000],\n",
       "       [0.00000000e+000, 0.00000000e+000, 1.00000000e+000],\n",
       "       [0.00000000e+000, 0.00000000e+000, 1.00000000e+000],\n",
       "       [0.00000000e+000, 0.00000000e+000, 1.00000000e+000]])"
      ]
     },
     "execution_count": 306,
     "metadata": {},
     "output_type": "execute_result"
    }
   ],
   "source": [
    "softmax(X @ Wi.T)"
   ]
  },
  {
   "cell_type": "code",
   "execution_count": 284,
   "metadata": {},
   "outputs": [
    {
     "data": {
      "text/plain": [
       "0.3606860320116076"
      ]
     },
     "execution_count": 284,
     "metadata": {},
     "output_type": "execute_result"
    }
   ],
   "source": [
    "alpha"
   ]
  },
  {
   "cell_type": "code",
   "execution_count": 224,
   "metadata": {},
   "outputs": [],
   "source": [
    "loss_values = []"
   ]
  },
  {
   "cell_type": "code",
   "execution_count": 225,
   "metadata": {
    "tags": []
   },
   "outputs": [
    {
     "ename": "KeyboardInterrupt",
     "evalue": "",
     "output_type": "error",
     "traceback": [
      "\u001b[0;31m---------------------------------------------------------------------------\u001b[0m",
      "\u001b[0;31mKeyboardInterrupt\u001b[0m                         Traceback (most recent call last)",
      "Cell \u001b[0;32mIn [225], line 5\u001b[0m\n\u001b[1;32m      3\u001b[0m it \u001b[38;5;241m=\u001b[39m \u001b[38;5;241m0\u001b[39m\n\u001b[1;32m      4\u001b[0m \u001b[38;5;28;01mwhile\u001b[39;00m grad_norm \u001b[38;5;241m>\u001b[39m \u001b[38;5;241m1e-3\u001b[39m \u001b[38;5;129;01mand\u001b[39;00m it \u001b[38;5;241m<\u001b[39m\u001b[38;5;241m=\u001b[39m \u001b[38;5;241m1000\u001b[39m:\n\u001b[0;32m----> 5\u001b[0m     alpha \u001b[38;5;241m=\u001b[39m \u001b[43mbissecao\u001b[49m\u001b[43m(\u001b[49m\u001b[43mX\u001b[49m\u001b[43m,\u001b[49m\u001b[43m \u001b[49m\u001b[43mW\u001b[49m\u001b[43m,\u001b[49m\u001b[43m \u001b[49m\u001b[43mgrad\u001b[49m\u001b[43m)\u001b[49m\n\u001b[1;32m      6\u001b[0m     W \u001b[38;5;241m=\u001b[39m W \u001b[38;5;241m-\u001b[39m alpha \u001b[38;5;241m*\u001b[39m grad\n\u001b[1;32m      7\u001b[0m     Ŷ \u001b[38;5;241m=\u001b[39m softmax(X \u001b[38;5;241m@\u001b[39m W\u001b[38;5;241m.\u001b[39mT)\n",
      "Cell \u001b[0;32mIn [205], line 11\u001b[0m, in \u001b[0;36mbissecao\u001b[0;34m(X, W, grad)\u001b[0m\n\u001b[1;32m      7\u001b[0m     ar \u001b[38;5;241m=\u001b[39m \u001b[38;5;241m2\u001b[39m\u001b[38;5;241m*\u001b[39mar\n\u001b[1;32m      9\u001b[0m am \u001b[38;5;241m=\u001b[39m (al \u001b[38;5;241m+\u001b[39m ar) \u001b[38;5;241m/\u001b[39m \u001b[38;5;241m2\u001b[39m\n\u001b[0;32m---> 11\u001b[0m \u001b[38;5;28;01mwhile\u001b[39;00m \u001b[38;5;28mabs\u001b[39m(\u001b[43mhl\u001b[49m\u001b[43m(\u001b[49m\u001b[43mX\u001b[49m\u001b[43m,\u001b[49m\u001b[43m \u001b[49m\u001b[43mW\u001b[49m\u001b[43m,\u001b[49m\u001b[43m \u001b[49m\u001b[43mgrad\u001b[49m\u001b[43m,\u001b[49m\u001b[43m \u001b[49m\u001b[43mam\u001b[49m\u001b[43m)\u001b[49m) \u001b[38;5;241m>\u001b[39m \u001b[38;5;241m1e-4\u001b[39m:\n\u001b[1;32m     13\u001b[0m     \u001b[38;5;28;01mif\u001b[39;00m hl(X, W, grad, am) \u001b[38;5;241m>\u001b[39m \u001b[38;5;241m0\u001b[39m:\n\u001b[1;32m     14\u001b[0m         ar \u001b[38;5;241m=\u001b[39m am\n",
      "Cell \u001b[0;32mIn [204], line 4\u001b[0m, in \u001b[0;36mhl\u001b[0;34m(X, W, grad, alpha)\u001b[0m\n\u001b[1;32m      2\u001b[0m loss, Ŷ \u001b[38;5;241m=\u001b[39m h(X, W, grad, alpha)\n\u001b[1;32m      3\u001b[0m grad_h \u001b[38;5;241m=\u001b[39m (Ŷ \u001b[38;5;241m-\u001b[39m Ytr)\u001b[38;5;241m.\u001b[39mT \u001b[38;5;241m@\u001b[39m X\n\u001b[0;32m----> 4\u001b[0m \u001b[38;5;28;01mreturn\u001b[39;00m np\u001b[38;5;241m.\u001b[39mdot(\u001b[43mgrad_h\u001b[49m\u001b[38;5;241;43m.\u001b[39;49m\u001b[43mT\u001b[49m\u001b[38;5;241;43m.\u001b[39;49m\u001b[43mflatten\u001b[49m\u001b[43m(\u001b[49m\u001b[43m)\u001b[49m, (\u001b[38;5;241m-\u001b[39mgrad)\u001b[38;5;241m.\u001b[39mflatten())\n",
      "\u001b[0;31mKeyboardInterrupt\u001b[0m: "
     ]
    }
   ],
   "source": [
    "grad_norm = np.linalg.norm(grad.flatten())\n",
    "\n",
    "it = 0\n",
    "while grad_norm > 1e-3 and it <= 1000:\n",
    "    alpha = bissecao(X, W, grad)\n",
    "    W = W - alpha * grad\n",
    "    Ŷ = softmax(X @ W.T)\n",
    "    grad = (Ŷ - Ytr).T @ X\n",
    "    grad_norm  = np.linalg.norm(grad.flatten())\n",
    "\n",
    "    loss = cross_entropy(Ytr, Ŷ)\n",
    "    loss_values.append(loss)\n",
    "\n",
    "    it += 1\n",
    "    print(f\"it: {it}, grad_norm: {grad_norm}, cross_entropy: {loss}\")"
   ]
  },
  {
   "cell_type": "code",
   "execution_count": 176,
   "metadata": {},
   "outputs": [
    {
     "data": {
      "text/plain": [
       "[]"
      ]
     },
     "execution_count": 176,
     "metadata": {},
     "output_type": "execute_result"
    }
   ],
   "source": [
    "loss_values"
   ]
  },
  {
   "cell_type": "code",
   "execution_count": 175,
   "metadata": {},
   "outputs": [
    {
     "data": {
      "text/plain": [
       "[<matplotlib.lines.Line2D at 0x7f5b3e7ae980>]"
      ]
     },
     "execution_count": 175,
     "metadata": {},
     "output_type": "execute_result"
    },
    {
     "data": {
      "image/png": "[encoded data removed]",
      "text/plain": [
       "<Figure size 640x480 with 1 Axes>"
      ]
     },
     "metadata": {},
     "output_type": "display_data"
    }
   ],
   "source": [
    "plt.plot(loss_values)"
   ]
  },
  {
   "cell_type": "code",
   "execution_count": null,
   "metadata": {},
   "outputs": [],
   "source": []
  }
 ],
 "metadata": {
  "kernelspec": {
   "display_name": "Python 3 (ipykernel)",
   "language": "python",
   "name": "python3"
  },
  "language_info": {
   "codemirror_mode": {
    "name": "ipython",
    "version": 3
   },
   "file_extension": ".py",
   "mimetype": "text/x-python",
   "name": "python",
   "nbconvert_exporter": "python",
   "pygments_lexer": "ipython3",
   "version": "3.10.4"
  },
  "vscode": {
   "interpreter": {
    "hash": "52cdf45f2e5b1832cf0147c301ecf3059df4e99c47ca2c4994b08930668942d2"
   }
  }
 },
 "nbformat": 4,
 "nbformat_minor": 4
}
